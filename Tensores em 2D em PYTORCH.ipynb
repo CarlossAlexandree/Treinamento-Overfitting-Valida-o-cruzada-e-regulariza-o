{
  "nbformat": 4,
  "nbformat_minor": 0,
  "metadata": {
    "colab": {
      "provenance": []
    },
    "kernelspec": {
      "name": "python3",
      "display_name": "Python 3"
    },
    "language_info": {
      "name": "python"
    }
  },
  "cells": [
    {
      "cell_type": "code",
      "source": [
        "# 📦 1. Importações necessárias\n",
        "import torch\n",
        "import numpy as np\n",
        "import pandas as pd\n",
        "import matplotlib.pyplot as plt\n",
        "\n",
        "# 🔍 2. Criação de Tensor 2D a partir de lista\n",
        "lista_2D = [[11, 12, 13], [21, 22, 23], [31, 32, 33]]\n",
        "tensor_2D = torch.tensor(lista_2D)\n",
        "print(\"Tensor 2D:\\n\", tensor_2D)\n",
        "\n",
        "# 📐 3. Propriedades do Tensor\n",
        "print(\"Dimensões:\", tensor_2D.ndimension())\n",
        "print(\"Formato:\", tensor_2D.shape)\n",
        "print(\"Tamanho:\", tensor_2D.size())\n",
        "print(\"Número de elementos:\", tensor_2D.numel())\n",
        "\n",
        "# 🔄 4. Conversões: Tensor ↔ NumPy, DataFrame → Tensor\n",
        "np_array = tensor_2D.numpy()\n",
        "print(\"Convertido para NumPy:\\n\", np_array)\n",
        "\n",
        "novo_tensor = torch.from_numpy(np_array)\n",
        "print(\"Convertido de volta para Tensor:\\n\", novo_tensor)\n",
        "\n",
        "df = pd.DataFrame({'A': [11, 33, 22], 'B': [3, 3, 2]})\n",
        "tensor_df = torch.tensor(df.values)\n",
        "print(\"Tensor a partir do DataFrame:\\n\", tensor_df)\n",
        "\n",
        "# 🎯 5. Indexação e Fatiamento\n",
        "print(\"Valor [1,2]:\", tensor_2D[1, 2])\n",
        "print(\"1ª linha, duas colunas:\", tensor_2D[0, 0:2])\n",
        "\n",
        "tensor_edit = tensor_2D.clone()\n",
        "tensor_edit[1:3, 1] = 0\n",
        "print(\"Tensor editado:\\n\", tensor_edit)\n",
        "\n",
        "# ⚙️ 6. Operações com Tensores\n",
        "X = torch.tensor([[1, 2], [3, 4]])\n",
        "Y = torch.tensor([[5, 6], [7, 8]])\n",
        "print(\"Soma:\\n\", X + Y)\n",
        "print(\"Produto Hadamard:\\n\", X * Y)\n",
        "print(\"2 * X:\\n\", 2 * X)\n",
        "\n",
        "A = torch.tensor([[0, 1, 1], [1, 0, 1]])\n",
        "B = torch.tensor([[1, 1], [1, 1], [-1, 1]])\n",
        "resultado = torch.mm(A, B)\n",
        "print(\"Multiplicação de A * B:\\n\", resultado)\n",
        "\n",
        "# 🔎 7. Validação de compatibilidade de multiplicação\n",
        "A = torch.rand((2, 3))\n",
        "B = torch.rand((3, 4))\n",
        "if A.shape[1] == B.shape[0]:\n",
        "    print(\"Multiplicação válida. Resultado:\\n\", torch.mm(A, B))\n",
        "else:\n",
        "    print(\"Multiplicação inválida. Dimensões incompatíveis.\")\n",
        "\n",
        "# 🖼️ 8. Visualizar Tensor como imagem\n",
        "imagem_tensor = torch.tensor([\n",
        "    [50, 100, 150],\n",
        "    [200, 250, 0],\n",
        "    [125, 75, 25]\n",
        "], dtype=torch.float32)\n",
        "\n",
        "plt.imshow(imagem_tensor.numpy(), cmap='gray')\n",
        "plt.title(\"Tensor como imagem (escala de cinza)\")\n",
        "plt.colorbar()\n",
        "plt.axis('off')\n",
        "plt.show()\n",
        "\n",
        "# 📘 9. Exercício proposto pelo laboratório\n",
        "X = torch.tensor([[0, 1], [1, 2]])\n",
        "Y = torch.tensor([[-1, -2, 0], [2, 1, 2]])\n",
        "print(\"X * Y:\\n\", torch.mm(X, Y))\n"
      ],
      "metadata": {
        "colab": {
          "base_uri": "https://localhost:8080/",
          "height": 1000
        },
        "id": "CGzjQUA9fQM0",
        "outputId": "88c0a9c3-9bad-42c0-de58-9803eda73e90"
      },
      "execution_count": 17,
      "outputs": [
        {
          "output_type": "stream",
          "name": "stdout",
          "text": [
            "Tensor 2D:\n",
            " tensor([[11, 12, 13],\n",
            "        [21, 22, 23],\n",
            "        [31, 32, 33]])\n",
            "Dimensões: 2\n",
            "Formato: torch.Size([3, 3])\n",
            "Tamanho: torch.Size([3, 3])\n",
            "Número de elementos: 9\n",
            "Convertido para NumPy:\n",
            " [[11 12 13]\n",
            " [21 22 23]\n",
            " [31 32 33]]\n",
            "Convertido de volta para Tensor:\n",
            " tensor([[11, 12, 13],\n",
            "        [21, 22, 23],\n",
            "        [31, 32, 33]])\n",
            "Tensor a partir do DataFrame:\n",
            " tensor([[11,  3],\n",
            "        [33,  3],\n",
            "        [22,  2]])\n",
            "Valor [1,2]: tensor(23)\n",
            "1ª linha, duas colunas: tensor([11, 12])\n",
            "Tensor editado:\n",
            " tensor([[11, 12, 13],\n",
            "        [21,  0, 23],\n",
            "        [31,  0, 33]])\n",
            "Soma:\n",
            " tensor([[ 6,  8],\n",
            "        [10, 12]])\n",
            "Produto Hadamard:\n",
            " tensor([[ 5, 12],\n",
            "        [21, 32]])\n",
            "2 * X:\n",
            " tensor([[2, 4],\n",
            "        [6, 8]])\n",
            "Multiplicação de A * B:\n",
            " tensor([[0, 2],\n",
            "        [0, 2]])\n",
            "Multiplicação válida. Resultado:\n",
            " tensor([[0.8976, 1.1023, 0.8407, 0.8697],\n",
            "        [0.1845, 0.4947, 0.4310, 0.1668]])\n"
          ]
        },
        {
          "output_type": "display_data",
          "data": {
            "text/plain": [
              "<Figure size 640x480 with 2 Axes>"
            ],
            "image/png": "[encoded data removed]"
          },
          "metadata": {}
        },
        {
          "output_type": "stream",
          "name": "stdout",
          "text": [
            "X * Y:\n",
            " tensor([[2, 1, 2],\n",
            "        [3, 0, 4]])\n"
          ]
        }
      ]
    },
    {
      "cell_type": "code",
      "source": [],
      "metadata": {
        "id": "jAC7DMg4gTXY"
      },
      "execution_count": null,
      "outputs": []
    }
  ]
}